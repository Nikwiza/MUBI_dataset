{
 "cells": [
  {
   "cell_type": "markdown",
   "metadata": {},
   "source": [
    "# Optimizing document layout and collections"
   ]
  },
  {
   "cell_type": "code",
   "execution_count": 34,
   "metadata": {},
   "outputs": [],
   "source": [
    "import pandas as pd"
   ]
  },
  {
   "cell_type": "code",
   "execution_count": 35,
   "metadata": {},
   "outputs": [],
   "source": [
    "mubi_ratings = pd.read_csv('../data/edited/mubi_ratings.csv', index_col=0)\n",
    "mubi_list = pd.read_csv('../data/edited/mubi_movie.csv', index_col=0)\n",
    "mubi_list = mubi_list[['movie_id', 'movie_title', 'has_img', 'movie_popularity', 'movie_release_year']]\n",
    "mubi_list = mubi_list.rename(columns={'has_img':'movie_has_img'})\n",
    "\n",
    "list_user = pd.read_csv('../data/edited/mubi_list_user.csv', index_col=0)\n",
    "list_df = pd.read_csv('../data/edited/mubi_list.csv', index_col=0)\n",
    "list_df = list_df[['has_img', 'list_followers']]\n"
   ]
  },
  {
   "cell_type": "code",
   "execution_count": 36,
   "metadata": {},
   "outputs": [],
   "source": [
    "merged_ratings = pd.merge(mubi_ratings, mubi_list, on='movie_id', how='left')"
   ]
  },
  {
   "cell_type": "code",
   "execution_count": 37,
   "metadata": {},
   "outputs": [],
   "source": [
    "merged_ratings.to_csv('../data/optimized/merged_ratings.csv')"
   ]
  }
 ],
 "metadata": {
  "kernelspec": {
   "display_name": "Python 3",
   "language": "python",
   "name": "python3"
  },
  "language_info": {
   "codemirror_mode": {
    "name": "ipython",
    "version": 3
   },
   "file_extension": ".py",
   "mimetype": "text/x-python",
   "name": "python",
   "nbconvert_exporter": "python",
   "pygments_lexer": "ipython3",
   "version": "3.11.9"
  }
 },
 "nbformat": 4,
 "nbformat_minor": 2
}
