{
 "cells": [
  {
   "cell_type": "markdown",
   "metadata": {},
   "source": [
    "# MUBI dataset preprocessing"
   ]
  },
  {
   "cell_type": "code",
   "execution_count": 44,
   "metadata": {},
   "outputs": [],
   "source": [
    "import pandas as pd\n",
    "import numpy as np\n",
    "import os"
   ]
  },
  {
   "cell_type": "code",
   "execution_count": 45,
   "metadata": {},
   "outputs": [],
   "source": [
    "\n",
    "df_mubi_list = pd.read_csv('../data/mubi_lists_data.csv')\n",
    "df_mubi_list_user = pd.read_csv('../data/mubi_lists_user_data.csv')\n",
    "df_mubi_movie = pd.read_csv('../data/mubi_movie_data.csv')\n",
    "# df_mubi_ratings = pd.read_csv('../data/mubi_ratings_data.csv')\n",
    "# mubi_ratings_user = pd.read_csv('../data/mubi_ratings_user_data.csv')"
   ]
  },
  {
   "cell_type": "code",
   "execution_count": 46,
   "metadata": {},
   "outputs": [
    {
     "name": "stdout",
     "output_type": "stream",
     "text": [
      "Index(['user_id', 'list_id', 'list_title', 'list_movie_number',\n",
      "       'list_update_timestamp_utc', 'list_creation_timestamp_utc',\n",
      "       'list_followers', 'list_url', 'list_comments', 'list_description',\n",
      "       'list_cover_image_url', 'list_first_image_url', 'list_second_image_url',\n",
      "       'list_third_image_url'],\n",
      "      dtype='object') Index(['user_id', 'list_id', 'list_update_date_utc', 'list_creation_date_utc',\n",
      "       'user_trialist', 'user_subscriber', 'user_avatar_image_url',\n",
      "       'user_cover_image_url', 'user_eligible_for_trial',\n",
      "       'user_has_payment_method'],\n",
      "      dtype='object') Index(['movie_id', 'movie_title', 'movie_release_year', 'movie_url',\n",
      "       'movie_title_language', 'movie_popularity', 'movie_image_url',\n",
      "       'director_id', 'director_name', 'director_url'],\n",
      "      dtype='object')\n"
     ]
    }
   ],
   "source": [
    "print(df_mubi_list.columns, df_mubi_list_user.columns, df_mubi_movie.columns)"
   ]
  },
  {
   "cell_type": "code",
   "execution_count": 47,
   "metadata": {},
   "outputs": [],
   "source": [
    "df_mubi_list['has_img'] = df_mubi_list[['list_cover_image_url', 'list_first_image_url', 'list_second_image_url', 'list_third_image_url']].notna().any(axis=1)"
   ]
  },
  {
   "cell_type": "code",
   "execution_count": 48,
   "metadata": {},
   "outputs": [],
   "source": [
    "col_to_drop = ['list_cover_image_url', 'list_first_image_url', 'list_second_image_url', 'list_third_image_url']\n",
    "df_mubi_list.drop(columns=col_to_drop, inplace=True)"
   ]
  },
  {
   "cell_type": "code",
   "execution_count": 49,
   "metadata": {},
   "outputs": [
    {
     "data": {
      "text/plain": [
       "has_img\n",
       "True     79963\n",
       "False      348\n",
       "Name: count, dtype: int64"
      ]
     },
     "execution_count": 49,
     "metadata": {},
     "output_type": "execute_result"
    }
   ],
   "source": [
    "df_mubi_list['has_img'].value_counts()"
   ]
  },
  {
   "cell_type": "code",
   "execution_count": 50,
   "metadata": {},
   "outputs": [],
   "source": [
    "df_mubi_list['has_img'] = df_mubi_list_user[['user_cover_image_url', 'user_avatar_image_url']].notna().any(axis=1)"
   ]
  },
  {
   "cell_type": "code",
   "execution_count": 51,
   "metadata": {},
   "outputs": [],
   "source": [
    "df_mubi_list_user.drop(columns=['user_cover_image_url', 'user_avatar_image_url'], inplace=True)"
   ]
  },
  {
   "cell_type": "code",
   "execution_count": 53,
   "metadata": {},
   "outputs": [
    {
     "data": {
      "text/plain": [
       "Index(['user_id', 'list_id', 'list_title', 'list_movie_number',\n",
       "       'list_update_timestamp_utc', 'list_creation_timestamp_utc',\n",
       "       'list_followers', 'list_url', 'list_comments', 'list_description',\n",
       "       'has_img'],\n",
       "      dtype='object')"
      ]
     },
     "execution_count": 53,
     "metadata": {},
     "output_type": "execute_result"
    }
   ],
   "source": [
    "df_mubi_list.columns"
   ]
  },
  {
   "cell_type": "code",
   "execution_count": 54,
   "metadata": {},
   "outputs": [],
   "source": [
    "df_mubi_movie['has_img'] = pd.notna(df_mubi_movie['movie_image_url'])"
   ]
  },
  {
   "cell_type": "code",
   "execution_count": 57,
   "metadata": {},
   "outputs": [],
   "source": [
    "col_to_drop = ['movie_image_url', 'movie_title_language']\n",
    "df_mubi_movie.drop(columns=col_to_drop, inplace=True)"
   ]
  },
  {
   "cell_type": "code",
   "execution_count": 59,
   "metadata": {},
   "outputs": [
    {
     "data": {
      "text/plain": [
       "Index(['movie_id', 'movie_title', 'movie_release_year', 'movie_url',\n",
       "       'movie_popularity', 'director_id', 'director_name', 'director_url',\n",
       "       'has_img'],\n",
       "      dtype='object')"
      ]
     },
     "execution_count": 59,
     "metadata": {},
     "output_type": "execute_result"
    }
   ],
   "source": [
    "df_mubi_movie.columns"
   ]
  },
  {
   "cell_type": "code",
   "execution_count": 61,
   "metadata": {},
   "outputs": [],
   "source": [
    "df_director = df_mubi_movie[['director_id', 'director_name']]"
   ]
  },
  {
   "cell_type": "code",
   "execution_count": 63,
   "metadata": {},
   "outputs": [],
   "source": [
    "col_to_drop = ['director_id', 'director_name']\n",
    "df_mubi_movie.drop(columns=col_to_drop, inplace=True)"
   ]
  },
  {
   "cell_type": "code",
   "execution_count": 65,
   "metadata": {},
   "outputs": [],
   "source": [
    "df_mubi_list.to_csv('../data/edited/mubi_list.csv')\n",
    "df_director.to_csv('../data/edited/director.csv')\n",
    "df_mubi_movie.to_csv('../data/edited/mubi_movie.csv')\n",
    "df_mubi_list_user.to_csv('../data/edited/mubi_list_user.csv')"
   ]
  }
 ],
 "metadata": {
  "kernelspec": {
   "display_name": "venv",
   "language": "python",
   "name": "python3"
  },
  "language_info": {
   "codemirror_mode": {
    "name": "ipython",
    "version": 3
   },
   "file_extension": ".py",
   "mimetype": "text/x-python",
   "name": "python",
   "nbconvert_exporter": "python",
   "pygments_lexer": "ipython3",
   "version": "3.12.3"
  }
 },
 "nbformat": 4,
 "nbformat_minor": 2
}
