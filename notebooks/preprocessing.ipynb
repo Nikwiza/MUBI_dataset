{
 "cells": [
  {
   "cell_type": "markdown",
   "metadata": {},
   "source": [
    "# MUBI dataset preprocessing"
   ]
  },
  {
   "cell_type": "code",
   "execution_count": 33,
   "metadata": {},
   "outputs": [],
   "source": [
    "import pandas as pd\n",
    "import numpy as np\n",
    "import os"
   ]
  },
  {
   "cell_type": "code",
   "execution_count": 34,
   "metadata": {},
   "outputs": [],
   "source": [
    "\n",
    "df_mubi_list = pd.read_csv('../data/mubi_lists_data.csv')\n",
    "df_mubi_list_user = pd.read_csv('../data/mubi_lists_user_data.csv')\n",
    "df_mubi_movie = pd.read_csv('../data/mubi_movie_data.csv')\n",
    "# df_mubi_ratings = pd.read_csv('../data/mubi_ratings_data.csv')\n",
    "# mubi_ratings_user = pd.read_csv('../data/mubi_ratings_user_data.csv')"
   ]
  },
  {
   "cell_type": "code",
   "execution_count": 35,
   "metadata": {},
   "outputs": [
    {
     "name": "stdout",
     "output_type": "stream",
     "text": [
      "Index(['user_id', 'list_id', 'list_title', 'list_movie_number',\n",
      "       'list_update_timestamp_utc', 'list_creation_timestamp_utc',\n",
      "       'list_followers', 'list_url', 'list_comments', 'list_description',\n",
      "       'list_cover_image_url', 'list_first_image_url', 'list_second_image_url',\n",
      "       'list_third_image_url'],\n",
      "      dtype='object') Index(['user_id', 'list_id', 'list_update_date_utc', 'list_creation_date_utc',\n",
      "       'user_trialist', 'user_subscriber', 'user_avatar_image_url',\n",
      "       'user_cover_image_url', 'user_eligible_for_trial',\n",
      "       'user_has_payment_method'],\n",
      "      dtype='object') Index(['movie_id', 'movie_title', 'movie_release_year', 'movie_url',\n",
      "       'movie_title_language', 'movie_popularity', 'movie_image_url',\n",
      "       'director_id', 'director_name', 'director_url'],\n",
      "      dtype='object')\n"
     ]
    }
   ],
   "source": [
    "print(df_mubi_list.columns, df_mubi_list_user.columns, df_mubi_movie.columns)"
   ]
  },
  {
   "cell_type": "code",
   "execution_count": 37,
   "metadata": {},
   "outputs": [],
   "source": [
    "df_mubi_list['has_img'] = df_mubi_list[['list_cover_image_url', 'list_first_image_url', 'list_second_image_url', 'list_third_image_url']].notna().any(axis=1)"
   ]
  },
  {
   "cell_type": "code",
   "execution_count": 38,
   "metadata": {},
   "outputs": [],
   "source": [
    "col_to_drop = ['list_cover_image_url', 'list_first_image_url', 'list_second_image_url', 'list_third_image_url']\n",
    "df_mubi_list.drop(columns=col_to_drop, inplace=True)"
   ]
  },
  {
   "cell_type": "code",
   "execution_count": 39,
   "metadata": {},
   "outputs": [
    {
     "data": {
      "text/plain": [
       "has_img\n",
       "True     79963\n",
       "False      348\n",
       "Name: count, dtype: int64"
      ]
     },
     "execution_count": 39,
     "metadata": {},
     "output_type": "execute_result"
    }
   ],
   "source": [
    "df_mubi_list['has_img'].value_counts()"
   ]
  },
  {
   "cell_type": "code",
   "execution_count": 40,
   "metadata": {},
   "outputs": [],
   "source": [
    "df_mubi_list_user['has_img'] = df_mubi_list_user[['user_cover_image_url', 'user_avatar_image_url']].notna().any(axis=1)"
   ]
  },
  {
   "cell_type": "code",
   "execution_count": 41,
   "metadata": {},
   "outputs": [],
   "source": [
    "df_mubi_list_user.drop(columns=['user_cover_image_url', 'user_avatar_image_url'], inplace=True)"
   ]
  },
  {
   "cell_type": "code",
   "execution_count": 42,
   "metadata": {},
   "outputs": [
    {
     "data": {
      "text/plain": [
       "Index(['user_id', 'list_id', 'list_title', 'list_movie_number',\n",
       "       'list_update_timestamp_utc', 'list_creation_timestamp_utc',\n",
       "       'list_followers', 'list_url', 'list_comments', 'list_description',\n",
       "       'has_img'],\n",
       "      dtype='object')"
      ]
     },
     "execution_count": 42,
     "metadata": {},
     "output_type": "execute_result"
    }
   ],
   "source": [
    "df_mubi_list.columns"
   ]
  },
  {
   "cell_type": "code",
   "execution_count": 43,
   "metadata": {},
   "outputs": [],
   "source": [
    "df_mubi_movie['has_img'] = pd.notna(df_mubi_movie['movie_image_url'])"
   ]
  },
  {
   "cell_type": "code",
   "execution_count": 44,
   "metadata": {},
   "outputs": [],
   "source": [
    "col_to_drop = ['movie_image_url', 'movie_title_language']\n",
    "df_mubi_movie.drop(columns=col_to_drop, inplace=True)"
   ]
  },
  {
   "cell_type": "code",
   "execution_count": 45,
   "metadata": {},
   "outputs": [
    {
     "data": {
      "text/plain": [
       "Index(['movie_id', 'movie_title', 'movie_release_year', 'movie_url',\n",
       "       'movie_popularity', 'director_id', 'director_name', 'director_url',\n",
       "       'has_img'],\n",
       "      dtype='object')"
      ]
     },
     "execution_count": 45,
     "metadata": {},
     "output_type": "execute_result"
    }
   ],
   "source": [
    "df_mubi_movie.columns"
   ]
  },
  {
   "cell_type": "code",
   "execution_count": 46,
   "metadata": {},
   "outputs": [],
   "source": [
    "df_mubi_list.to_csv('../data/edited/mubi_list.csv')\n",
    "df_mubi_movie.to_csv('../data/edited/mubi_movie.csv')\n",
    "df_mubi_list_user.to_csv('../data/edited/mubi_list_user.csv')"
   ]
  },
  {
   "cell_type": "markdown",
   "metadata": {},
   "source": [
    "## Descripbe tables"
   ]
  },
  {
   "cell_type": "code",
   "execution_count": 47,
   "metadata": {},
   "outputs": [
    {
     "name": "stdout",
     "output_type": "stream",
     "text": [
      "user_id                         int64\n",
      "list_id                         int64\n",
      "list_title                     object\n",
      "list_movie_number               int64\n",
      "list_update_timestamp_utc      object\n",
      "list_creation_timestamp_utc    object\n",
      "list_followers                  int64\n",
      "list_url                       object\n",
      "list_comments                   int64\n",
      "list_description               object\n",
      "has_img                          bool\n",
      "dtype: object\n",
      "movie_id                int64\n",
      "movie_title            object\n",
      "movie_release_year    float64\n",
      "movie_url              object\n",
      "movie_popularity        int64\n",
      "director_id            object\n",
      "director_name          object\n",
      "director_url           object\n",
      "has_img                  bool\n",
      "dtype: object\n",
      "user_id                     int64\n",
      "list_id                     int64\n",
      "list_update_date_utc       object\n",
      "list_creation_date_utc     object\n",
      "user_trialist                bool\n",
      "user_subscriber              bool\n",
      "user_eligible_for_trial      bool\n",
      "user_has_payment_method      bool\n",
      "has_img                      bool\n",
      "dtype: object\n"
     ]
    }
   ],
   "source": [
    "print(df_mubi_list.dtypes)\n",
    "print(df_mubi_movie.dtypes)\n",
    "print(df_mubi_list_user.dtypes)"
   ]
  }
 ],
 "metadata": {
  "kernelspec": {
   "display_name": "venv",
   "language": "python",
   "name": "python3"
  },
  "language_info": {
   "codemirror_mode": {
    "name": "ipython",
    "version": 3
   },
   "file_extension": ".py",
   "mimetype": "text/x-python",
   "name": "python",
   "nbconvert_exporter": "python",
   "pygments_lexer": "ipython3",
   "version": "3.11.9"
  }
 },
 "nbformat": 4,
 "nbformat_minor": 2
}
