{
 "cells": [
  {
   "cell_type": "code",
   "execution_count": 1,
   "metadata": {},
   "outputs": [],
   "source": [
    "import pandas as pd\n",
    "import numpy as np"
   ]
  },
  {
   "cell_type": "code",
   "execution_count": 2,
   "metadata": {},
   "outputs": [],
   "source": [
    "CHUNKSIZE = 500000"
   ]
  },
  {
   "cell_type": "code",
   "execution_count": 3,
   "metadata": {},
   "outputs": [],
   "source": [
    "df_mubi_ratings = pd.read_csv('../data/mubi_ratings_data.csv' , chunksize=CHUNKSIZE)\n",
    "mubi_ratings_user = pd.read_csv('../data/mubi_ratings_user_data.csv', chunksize=CHUNKSIZE)"
   ]
  },
  {
   "cell_type": "code",
   "execution_count": 5,
   "metadata": {},
   "outputs": [],
   "source": [
    "mugi_ratings_ck = next(df_mubi_ratings)\n",
    "mubi_ratings_user_ck = next(df_mubi_ratings)"
   ]
  },
  {
   "cell_type": "code",
   "execution_count": 10,
   "metadata": {},
   "outputs": [
    {
     "data": {
      "text/plain": [
       "movie_id                        0\n",
       "rating_id                       0\n",
       "rating_url                      0\n",
       "rating_score                  867\n",
       "rating_timestamp_utc            0\n",
       "critic                     482498\n",
       "critic_likes                    0\n",
       "critic_comments                 0\n",
       "user_id                         0\n",
       "user_trialist                   0\n",
       "user_subscriber                 0\n",
       "user_eligible_for_trial         0\n",
       "user_has_payment_method         0\n",
       "dtype: int64"
      ]
     },
     "execution_count": 10,
     "metadata": {},
     "output_type": "execute_result"
    }
   ],
   "source": [
    "mugi_ratings_ck.isnull().sum(axis=0)"
   ]
  },
  {
   "cell_type": "code",
   "execution_count": 11,
   "metadata": {},
   "outputs": [],
   "source": [
    "mugi_ratings_ck.to_csv('../data/edited/mubi_ratings.csv')\n",
    "mubi_ratings_user_ck.to_csv('../data/edited/ratings_user.csv')\n"
   ]
  }
 ],
 "metadata": {
  "kernelspec": {
   "display_name": "venv",
   "language": "python",
   "name": "python3"
  },
  "language_info": {
   "codemirror_mode": {
    "name": "ipython",
    "version": 3
   },
   "file_extension": ".py",
   "mimetype": "text/x-python",
   "name": "python",
   "nbconvert_exporter": "python",
   "pygments_lexer": "ipython3",
   "version": "3.12.3"
  }
 },
 "nbformat": 4,
 "nbformat_minor": 2
}
