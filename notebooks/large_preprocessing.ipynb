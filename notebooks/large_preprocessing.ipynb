{
 "cells": [
  {
   "cell_type": "code",
   "execution_count": 3,
   "metadata": {},
   "outputs": [],
   "source": [
    "import pandas as pd\n",
    "import numpy as np"
   ]
  },
  {
   "cell_type": "code",
   "execution_count": 4,
   "metadata": {},
   "outputs": [],
   "source": [
    "CHUNKSIZE = 500000"
   ]
  },
  {
   "cell_type": "code",
   "execution_count": 5,
   "metadata": {},
   "outputs": [],
   "source": [
    "df_mubi_ratings = pd.read_csv('../data/mubi_ratings_data.csv' , chunksize=CHUNKSIZE)\n",
    "mubi_ratings_user = pd.read_csv('../data/mubi_ratings_user_data.csv', chunksize=CHUNKSIZE)"
   ]
  },
  {
   "cell_type": "code",
   "execution_count": 6,
   "metadata": {},
   "outputs": [],
   "source": [
    "mugi_ratings_ck = next(df_mubi_ratings)\n",
    "mubi_ratings_user_ck = next(mubi_ratings_user)"
   ]
  },
  {
   "cell_type": "code",
   "execution_count": 7,
   "metadata": {},
   "outputs": [
    {
     "data": {
      "text/plain": [
       "movie_id                        0\n",
       "rating_id                       0\n",
       "rating_url                      0\n",
       "rating_score                  867\n",
       "rating_timestamp_utc            0\n",
       "critic                     482498\n",
       "critic_likes                    0\n",
       "critic_comments                 0\n",
       "user_id                         0\n",
       "user_trialist                   0\n",
       "user_subscriber                 0\n",
       "user_eligible_for_trial         0\n",
       "user_has_payment_method         0\n",
       "dtype: int64"
      ]
     },
     "execution_count": 7,
     "metadata": {},
     "output_type": "execute_result"
    }
   ],
   "source": [
    "mugi_ratings_ck.isnull().sum(axis=0)"
   ]
  },
  {
   "cell_type": "markdown",
   "metadata": {},
   "source": [
    "### Table organization"
   ]
  },
  {
   "cell_type": "code",
   "execution_count": 8,
   "metadata": {},
   "outputs": [],
   "source": [
    "mubi_ratings_user_ck['has_img'] = mubi_ratings_user_ck[['user_cover_image_url', 'user_avatar_image_url']].notna().any(axis=1)"
   ]
  },
  {
   "cell_type": "code",
   "execution_count": 9,
   "metadata": {},
   "outputs": [],
   "source": [
    "mubi_ratings_user_ck.drop(columns=['user_cover_image_url', 'user_avatar_image_url'], inplace=True)"
   ]
  },
  {
   "cell_type": "code",
   "execution_count": 10,
   "metadata": {},
   "outputs": [
    {
     "data": {
      "text/plain": [
       "Index(['user_id', 'rating_date_utc', 'user_trialist', 'user_subscriber',\n",
       "       'user_eligible_for_trial', 'user_has_payment_method', 'has_img'],\n",
       "      dtype='object')"
      ]
     },
     "execution_count": 10,
     "metadata": {},
     "output_type": "execute_result"
    }
   ],
   "source": [
    "mubi_ratings_user_ck.columns"
   ]
  },
  {
   "cell_type": "code",
   "execution_count": 11,
   "metadata": {},
   "outputs": [
    {
     "name": "stdout",
     "output_type": "stream",
     "text": [
      "movie_id                     int64\n",
      "rating_id                    int64\n",
      "rating_url                  object\n",
      "rating_score               float64\n",
      "rating_timestamp_utc        object\n",
      "critic                      object\n",
      "critic_likes                 int64\n",
      "critic_comments              int64\n",
      "user_id                      int64\n",
      "user_trialist                 bool\n",
      "user_subscriber               bool\n",
      "user_eligible_for_trial       bool\n",
      "user_has_payment_method       bool\n",
      "dtype: object\n",
      "user_id                     int64\n",
      "rating_date_utc            object\n",
      "user_trialist                bool\n",
      "user_subscriber              bool\n",
      "user_eligible_for_trial      bool\n",
      "user_has_payment_method      bool\n",
      "has_img                      bool\n",
      "dtype: object\n"
     ]
    }
   ],
   "source": [
    "mugi_ratings_ck.to_csv('../data/edited/mubi_ratings.csv')\n",
    "mubi_ratings_user_ck.to_csv('../data/edited/ratings_user.csv')\n",
    "\n",
    "print(mugi_ratings_ck.dtypes)\n",
    "print(mubi_ratings_user_ck.dtypes)"
   ]
  }
 ],
 "metadata": {
  "kernelspec": {
   "display_name": "venv",
   "language": "python",
   "name": "python3"
  },
  "language_info": {
   "codemirror_mode": {
    "name": "ipython",
    "version": 3
   },
   "file_extension": ".py",
   "mimetype": "text/x-python",
   "name": "python",
   "nbconvert_exporter": "python",
   "pygments_lexer": "ipython3",
   "version": "3.11.9"
  }
 },
 "nbformat": 4,
 "nbformat_minor": 2
}
